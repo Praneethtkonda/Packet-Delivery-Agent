{
 "cells": [
  {
   "cell_type": "code",
   "execution_count": 11,
   "metadata": {},
   "outputs": [],
   "source": [
    "##  function to generate a single random successor state from a given  state .Is called by the generate_1000 function\n",
    "\n",
    "import numpy as np\n",
    "def generate_one(st,packet_vec):\n",
    "    for i in packet_vec:\n",
    "        while True:\n",
    "            loc=np.random.randint(0,6)\n",
    "            if st[loc] >= i:\n",
    "                st[loc] = st[loc] - i\n",
    "                break\n",
    "    return st"
   ]
  },
  {
   "cell_type": "code",
   "execution_count": 21,
   "metadata": {},
   "outputs": [],
   "source": [
    "## generates 10000 successors and returns the unique successors calls the generate_one 10000 times\n",
    "\n",
    "def generate_10000(state,packet_vec):\n",
    "    a=[]\n",
    "    for i in range(1000):\n",
    "        a.append(generate_one(state.copy(),packet_vec))\n",
    "    return set([tuple(i) for i in a]) ## only returns unique states "
   ]
  },
  {
   "cell_type": "code",
   "execution_count": 15,
   "metadata": {},
   "outputs": [],
   "source": [
    "\n",
    "##finds the best state based on the generated random states anbd the free_space, chooses the one which optimises the most \n",
    "## effective space consumed\n",
    "\n",
    "\n",
    "def best_State(state_collection):\n",
    "    cost=9999\n",
    "    initial = [5, 28, 20, 46, 25, 35]\n",
    "    for i in state_collection:\n",
    "        free_space =sum(np.array([1,1,1,1,1,1]) - ((np.array(initial) - np.array(i))/np.array(initial))) \n",
    "        if cost  > ( free_space):\n",
    "            locally_optimal_state = i  \n",
    "        \n",
    "    return locally_optimal_state"
   ]
  },
  {
   "cell_type": "code",
   "execution_count": 16,
   "metadata": {},
   "outputs": [],
   "source": [
    "state =[5, 28, 20, 46, 25, 35]\n",
    "packets = [4,2,2,6]"
   ]
  },
  {
   "cell_type": "code",
   "execution_count": 19,
   "metadata": {},
   "outputs": [],
   "source": [
    "## Main function which returns the next best state out of the 10000\n",
    "\n",
    "def local_Search_Rooms(packet_string, current_state):\n",
    "    all_generated_successors = generate_10000( current_state,packet_string)\n",
    "    best_state = best_State(all_generated_successors)\n",
    "    return best_state\n",
    "    \n",
    "    "
   ]
  },
  {
   "cell_type": "code",
   "execution_count": 20,
   "metadata": {},
   "outputs": [
    {
     "data": {
      "text/plain": [
       "(5, 22, 14, 44, 25, 35)"
      ]
     },
     "execution_count": 20,
     "metadata": {},
     "output_type": "execute_result"
    }
   ],
   "source": [
    "local_Search_Rooms(packets,state)"
   ]
  },
  {
   "cell_type": "code",
   "execution_count": 14,
   "metadata": {},
   "outputs": [
    {
     "data": {
      "text/plain": [
       "[5, 28, 20, 46, 25, 35]"
      ]
     },
     "execution_count": 14,
     "metadata": {},
     "output_type": "execute_result"
    }
   ],
   "source": [
    "state"
   ]
  },
  {
   "cell_type": "code",
   "execution_count": null,
   "metadata": {},
   "outputs": [],
   "source": []
  }
 ],
 "metadata": {
  "kernelspec": {
   "display_name": "Python 3",
   "language": "python",
   "name": "python3"
  },
  "language_info": {
   "codemirror_mode": {
    "name": "ipython",
    "version": 3
   },
   "file_extension": ".py",
   "mimetype": "text/x-python",
   "name": "python",
   "nbconvert_exporter": "python",
   "pygments_lexer": "ipython3",
   "version": "3.7.9"
  }
 },
 "nbformat": 4,
 "nbformat_minor": 4
}
